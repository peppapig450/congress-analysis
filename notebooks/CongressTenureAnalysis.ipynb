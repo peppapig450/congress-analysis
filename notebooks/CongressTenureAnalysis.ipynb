{
 "cells": [
  {
   "cell_type": "markdown",
   "metadata": {},
   "source": [
    "### Import necessary packages"
   ]
  },
  {
   "cell_type": "code",
   "execution_count": null,
   "metadata": {},
   "outputs": [],
   "source": [
    "import json\n",
    "from pathlib import Path\n",
    "from datetime import datetime\n",
    "import pandas as pd\n",
    "import matplotlib.pyplot as plt\n",
    "\n",
    "%matplotlib inline\n"
   ]
  },
  {
   "cell_type": "markdown",
   "metadata": {},
   "source": [
    "### Setup variables and file paths"
   ]
  },
  {
   "cell_type": "code",
   "execution_count": null,
   "metadata": {},
   "outputs": [],
   "source": [
    "json_dir = Path(\"data/extracted/BioguideProfiles\")\n",
    "\n",
    "tenure_data = []"
   ]
  },
  {
   "cell_type": "markdown",
   "metadata": {},
   "source": [
    "### Process each JSON file"
   ]
  },
  {
   "cell_type": "code",
   "execution_count": null,
   "metadata": {},
   "outputs": [],
   "source": [
    "for json_file in json_dir.glob(\"*.json\"):\n",
    "    try:\n",
    "        with json_file.open('r', encoding=\"utf-8\") as file:\n",
    "            data = json.load(file)\n",
    "\n",
    "            # Check if 'data' key exists; if not, use the root object\n",
    "            member = data.get('data', data)\n",
    "            usCongressBioId = member.get('usCongressBioId', 'Unknown')\n",
    "            job_positions = member.get('jobPositions', [])\n",
    "            profile_text = member.get('profileText', '')\n",
    "            \n",
    "            if not job_positions:\n",
    "                print(f\"No job positions found in file: {json_file}\")\n",
    "                continue\n",
    "            \n",
    "            # Extract start and end dates\n",
    "            dates = []\n",
    "            for position in job_positions:\n",
    "                try:\n",
    "                    congress_aff = position.get('congressAffiliation', {})\n",
    "                    congress = congress_aff.get('congress', {})\n",
    "                    \n",
    "                    start_date = congress.get('startDate')\n",
    "                    end_date = congress.get('endDate')\n",
    "                    congress_num = congress.get('congressNumber')\n",
    "                    chamber = position.get('job', {}).get('name')\n",
    "                    \n",
    "                    if start_date:\n",
    "                        dates.append((start_date, end_date, congress_num, chamber))\n",
    "                except AttributeError as e:\n",
    "                    print(f\"Structure error in position data in file {json_file}: {e}\")\n",
    "                    continue\n",
    "                \n",
    "            if not dates:\n",
    "                print(f\"No valid dates found in file: {json_file}\")\n",
    "                continue\n",
    "            \n",
    "            dates.sort(key=lambda x: x[0])\n",
    "            start = datetime.strptime(dates[0][0], \"%Y-%m-%d\")\n",
    "            last_end = dates[-1][1] if dates[-1][1] else datetime.now().strftime(\"%Y-%m-%d\")\n",
    "            end = datetime.strptime(last_end, \"%Y-%m-%d\")\n",
    "            tenure_years = (end - start).days / 365.25 # NOTE: could replace with exact years calc func\n",
    "            \n",
    "            tenure_data.append({\n",
    "                'id': usCongressBioId,\n",
    "                'tenure_years': tenure_years,\n",
    "                'start_date': start,\n",
    "                'end_date': end,\n",
    "                'congresses': [d[2] for d in dates if d[2] is not None],\n",
    "                'chamber': dates[0][3] if dates[0][3] is not None else 'Unknown'\n",
    "            })\n",
    "            \n",
    "    except json.JSONDecodeError:\n",
    "        print(f\"Error decoding JSON in file: {json_file}\")\n",
    "    except KeyError as e:\n",
    "        print(f\"KeyError: {e} in file: {json_file}\")\n",
    "    except ValueError as e:\n",
    "        print(f\"ValueError: {e} in file: {json_file}\")\n",
    "    except FileNotFoundError:\n",
    "        print(f\"File not found: {json_file}\")\n",
    "    except Exception as e:\n",
    "        print(f\"An unexpected error occurred in file {json_file}: {e}\")"
   ]
  },
  {
   "cell_type": "markdown",
   "metadata": {},
   "source": [
    "### Load into pandas\n"
   ]
  },
  {
   "cell_type": "code",
   "execution_count": null,
   "metadata": {},
   "outputs": [],
   "source": [
    "df = pd.DataFrame(tenure_data)\n",
    "display(df)"
   ]
  },
  {
   "cell_type": "markdown",
   "metadata": {},
   "source": [
    "### Calculate average tenure per Congress"
   ]
  },
  {
   "cell_type": "code",
   "execution_count": null,
   "metadata": {},
   "outputs": [],
   "source": [
    "congress_tenure = {}\n",
    "\n",
    "df_copy = df.copy()\n",
    "exploded_df = df_copy.explode('congresses')\n",
    "avg_tenure_by_congress = exploded_df.groupby('congresses')['tenure_years'].mean()"
   ]
  },
  {
   "cell_type": "markdown",
   "metadata": {},
   "source": [
    "### Plot the average tenure"
   ]
  },
  {
   "cell_type": "code",
   "execution_count": null,
   "metadata": {},
   "outputs": [],
   "source": [
    "avg_tenure_by_congress.sort_index().plot(figsize=(12, 6), marker='o', grid=True, title=\"Average Tenure of Congress Members Over Time\", xlabel=\"Congress Number\", ylabel=\"Average Tenure (Years)\")"
   ]
  }
 ],
 "metadata": {
  "kernelspec": {
   "display_name": "CongressAnalysis",
   "language": "python",
   "name": "congress-analysis"
  },
  "language_info": {
   "codemirror_mode": {
    "name": "ipython",
    "version": 3
   },
   "file_extension": ".py",
   "mimetype": "text/x-python",
   "name": "python",
   "nbconvert_exporter": "python",
   "pygments_lexer": "ipython3",
   "version": "3.13.2"
  }
 },
 "nbformat": 4,
 "nbformat_minor": 2
}
